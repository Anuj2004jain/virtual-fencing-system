{
 "cells": [
  {
   "cell_type": "code",
   "execution_count": 1,
   "metadata": {},
   "outputs": [],
   "source": [
    "from ultralytics import YOLO\n",
    "from PIL import Image"
   ]
  },
  {
   "cell_type": "code",
   "execution_count": 3,
   "metadata": {},
   "outputs": [],
   "source": [
    "model = YOLO(\"yolov8m.pt\")"
   ]
  },
  {
   "cell_type": "code",
   "execution_count": 15,
   "metadata": {},
   "outputs": [
    {
     "name": "stdout",
     "output_type": "stream",
     "text": [
      "\n",
      "image 1/1 d:\\Documents\\code\\Virtual-Fencing-Home-Security-System\\Images\\top-view-crowd.jpg: 448x640 4 persons, 273.3ms\n",
      "Speed: 2.0ms preprocess, 273.3ms inference, 1.0ms postprocess per image at shape (1, 3, 448, 640)\n",
      "ultralytics.engine.results.Results object with attributes:\n",
      "\n",
      "boxes: ultralytics.engine.results.Boxes object\n",
      "keypoints: None\n",
      "masks: None\n",
      "names: {0: 'person', 1: 'bicycle', 2: 'car', 3: 'motorcycle', 4: 'airplane', 5: 'bus', 6: 'train', 7: 'truck', 8: 'boat', 9: 'traffic light', 10: 'fire hydrant', 11: 'stop sign', 12: 'parking meter', 13: 'bench', 14: 'bird', 15: 'cat', 16: 'dog', 17: 'horse', 18: 'sheep', 19: 'cow', 20: 'elephant', 21: 'bear', 22: 'zebra', 23: 'giraffe', 24: 'backpack', 25: 'umbrella', 26: 'handbag', 27: 'tie', 28: 'suitcase', 29: 'frisbee', 30: 'skis', 31: 'snowboard', 32: 'sports ball', 33: 'kite', 34: 'baseball bat', 35: 'baseball glove', 36: 'skateboard', 37: 'surfboard', 38: 'tennis racket', 39: 'bottle', 40: 'wine glass', 41: 'cup', 42: 'fork', 43: 'knife', 44: 'spoon', 45: 'bowl', 46: 'banana', 47: 'apple', 48: 'sandwich', 49: 'orange', 50: 'broccoli', 51: 'carrot', 52: 'hot dog', 53: 'pizza', 54: 'donut', 55: 'cake', 56: 'chair', 57: 'couch', 58: 'potted plant', 59: 'bed', 60: 'dining table', 61: 'toilet', 62: 'tv', 63: 'laptop', 64: 'mouse', 65: 'remote', 66: 'keyboard', 67: 'cell phone', 68: 'microwave', 69: 'oven', 70: 'toaster', 71: 'sink', 72: 'refrigerator', 73: 'book', 74: 'clock', 75: 'vase', 76: 'scissors', 77: 'teddy bear', 78: 'hair drier', 79: 'toothbrush'}\n",
      "obb: None\n",
      "orig_img: array([[[177, 181, 182],\n",
      "        [177, 181, 182],\n",
      "        [176, 181, 182],\n",
      "        ...,\n",
      "        [198, 195, 187],\n",
      "        [191, 188, 180],\n",
      "        [192, 189, 181]],\n",
      "\n",
      "       [[183, 187, 188],\n",
      "        [179, 183, 184],\n",
      "        [171, 176, 177],\n",
      "        ...,\n",
      "        [189, 186, 178],\n",
      "        [185, 182, 174],\n",
      "        [185, 182, 174]],\n",
      "\n",
      "       [[193, 197, 198],\n",
      "        [185, 189, 190],\n",
      "        [170, 175, 176],\n",
      "        ...,\n",
      "        [193, 191, 183],\n",
      "        [191, 189, 181],\n",
      "        [188, 186, 178]],\n",
      "\n",
      "       ...,\n",
      "\n",
      "       [[117, 114, 109],\n",
      "        [123, 120, 115],\n",
      "        [126, 123, 118],\n",
      "        ...,\n",
      "        [122, 119, 114],\n",
      "        [141, 138, 133],\n",
      "        [147, 144, 139]],\n",
      "\n",
      "       [[113, 110, 105],\n",
      "        [118, 115, 110],\n",
      "        [121, 118, 113],\n",
      "        ...,\n",
      "        [ 99,  96,  91],\n",
      "        [142, 139, 134],\n",
      "        [142, 139, 134]],\n",
      "\n",
      "       [[116, 116, 110],\n",
      "        [119, 119, 113],\n",
      "        [122, 122, 116],\n",
      "        ...,\n",
      "        [ 72,  69,  64],\n",
      "        [142, 139, 134],\n",
      "        [140, 137, 132]]], dtype=uint8)\n",
      "orig_shape: (683, 1023)\n",
      "path: 'd:\\\\Documents\\\\code\\\\Virtual-Fencing-Home-Security-System\\\\Images\\\\top-view-crowd.jpg'\n",
      "probs: None\n",
      "save_dir: 'runs\\\\detect\\\\predict'\n",
      "speed: {'preprocess': 2.0017623901367188, 'inference': 273.27632904052734, 'postprocess': 0.9989738464355469}\n"
     ]
    }
   ],
   "source": [
    "img = \"Images\\\\top-view-crowd.jpg\"\n",
    "results = model.predict(img)\n",
    "result = results[0]\n",
    "print(result)"
   ]
  },
  {
   "cell_type": "code",
   "execution_count": 17,
   "metadata": {},
   "outputs": [
    {
     "ename": "AttributeError",
     "evalue": "'list' object has no attribute 'plot'",
     "output_type": "error",
     "traceback": [
      "\u001b[1;31m---------------------------------------------------------------------------\u001b[0m",
      "\u001b[1;31mAttributeError\u001b[0m                            Traceback (most recent call last)",
      "Cell \u001b[1;32mIn[17], line 1\u001b[0m\n\u001b[1;32m----> 1\u001b[0m Image\u001b[38;5;241m.\u001b[39mfromarray(\u001b[43mresults\u001b[49m\u001b[38;5;241;43m.\u001b[39;49m\u001b[43mplot\u001b[49m()[:,:, ::\u001b[38;5;241m-\u001b[39m\u001b[38;5;241m1\u001b[39m])\n",
      "\u001b[1;31mAttributeError\u001b[0m: 'list' object has no attribute 'plot'"
     ]
    }
   ],
   "source": [
    "Image.fromarray(result.plot()[:,:, ::-1])"
   ]
  }
 ],
 "metadata": {
  "kernelspec": {
   "display_name": "base",
   "language": "python",
   "name": "python3"
  },
  "language_info": {
   "codemirror_mode": {
    "name": "ipython",
    "version": 3
   },
   "file_extension": ".py",
   "mimetype": "text/x-python",
   "name": "python",
   "nbconvert_exporter": "python",
   "pygments_lexer": "ipython3",
   "version": "3.11.4"
  }
 },
 "nbformat": 4,
 "nbformat_minor": 2
}
